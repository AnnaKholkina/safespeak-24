{
 "cells": [
  {
   "cell_type": "code",
   "execution_count": null,
   "id": "299e6a93",
   "metadata": {},
   "outputs": [],
   "source": [
    "import argparse\n",
    "import os\n",
    "import torch\n",
    "from torch.utils.data import DataLoader\n",
    "import torch.nn as nn\n",
    "from tqdm import tqdm\n",
    "import numpy as np\n",
    "import torch.nn.functional as F\n",
    "from utils import setup_seed\n",
    "\n",
    "\n",
    "torch.set_default_tensor_type(torch.FloatTensor)\n",
    "torch.autograd.set_detect_anomaly(True)\n",
    "torch.use_deterministic_algorithms(True)"
   ]
  },
  {
   "cell_type": "code",
   "execution_count": null,
   "id": "9eaab832",
   "metadata": {},
   "outputs": [],
   "source": [
    "def padding(spec, ref_len):\n",
    "    width, cur_len = spec.shape\n",
    "    assert ref_len > cur_len\n",
    "    padd_len = ref_len - cur_len\n",
    "    return torch.cat((spec, torch.zeros(width, padd_len, dtype=spec.dtype)), 1)\n",
    "\n",
    "def repeat_padding(spec, ref_len):\n",
    "    mul = int(np.ceil(ref_len / spec.shape[1]))\n",
    "    spec = spec.repeat(1, mul)[:, :ref_len]\n",
    "    return spec\n",
    "\n",
    "class SafeSpeakTest(Dataset):\n",
    "    def __init__(self, path_to_audio=\"./SafeSpeak-2024/kaggle_data/wavs\"):\n",
    "        super(SafeSpeakTest, self).__init__()\n",
    "        self.path_to_audio = path_to_audio\n",
    "        self.files = os.listdir(self.path_to_audio)\n",
    "        self.filepaths = [os.path.join(self.path_to_audio, filepath) for filepath in self.files]\n",
    "        self.feat_len = 128000\n",
    "        self.padding = 'repeat'\n",
    "\n",
    "    def __len__(self):\n",
    "        return len(self.files)\n",
    "\n",
    "    def __getitem__(self, idx):\n",
    "        filepath = self.filepaths[idx]\n",
    "        wav, sr = torchaudio_load(filepath)\n",
    "        this_feat_len = wav.shape[1]\n",
    "        if this_feat_len > self.feat_len:\n",
    "            wav = wav[:, :self.feat_len]\n",
    "\n",
    "        if this_feat_len < self.feat_len:\n",
    "            if self.padding == 'zero':\n",
    "                wav = padding(wav, self.feat_len)\n",
    "            elif self.padding == 'repeat':\n",
    "                wav = repeat_padding(wav, self.feat_len)\n",
    "            else:\n",
    "                raise ValueError('Padding should be zero or repeat!')\n",
    "\n",
    "        return wav.squeeze(0), self.files[idx]\n",
    "\n",
    "    def collate_fn(self, samples):\n",
    "        return default_collate(samples)"
   ]
  },
  {
   "cell_type": "code",
   "execution_count": null,
   "id": "a70da136",
   "metadata": {},
   "outputs": [],
   "source": [
    "def test_model():\n",
    "\n",
    "    model_path = './ocnet_finetune.pt'\n",
    "    model = torch.load(model_path, map_location=\"cuda\")\n",
    "\n",
    "    device = torch.device(\"cuda:0\" if torch.cuda.is_available() else \"cpu\")\n",
    "    model = model.to(device)\n",
    "\n",
    "\n",
    "    #safespeak_raw = SafeSpeakTest()\n",
    "    test_set = SafeSpeakTest()\n",
    "    testDataLoader = DataLoader(test_set, batch_size=args.batch_size, shuffle=False, num_workers=args.num_workers,\n",
    "                               collate_fn=test_set.collate_fn)                             \n",
    "\n",
    "    model.eval()\n",
    "    with open('result.txt', 'w') as cm_score_file:\n",
    "        with torch.no_grad():\n",
    "            for i, (wave, audio_fn) in enumerate(tqdm(testDataLoader)):\n",
    "\n",
    "                wave = wave.float().to(device)\n",
    "                #labels = labels.to(device)\n",
    "\n",
    "                #tags = tags.to(device)\n",
    "                score = model(wave).float()\n",
    "                if score.size(-1)>1:\n",
    "                    score = F.softmax(score)[:,0].float()\n",
    "\n",
    "                audio_fn = list(audio_fn)\n",
    "                for j in range(len(audio_fn)):\n",
    "                    cm_score_file.write(\n",
    "                        '%s %s\\n' % (audio_fn[j], score[j].item()))"
   ]
  },
  {
   "cell_type": "code",
   "execution_count": null,
   "id": "802daf21",
   "metadata": {},
   "outputs": [],
   "source": [
    "test_model()"
   ]
  }
 ],
 "metadata": {
  "kernelspec": {
   "display_name": "Python 3 (ipykernel)",
   "language": "python",
   "name": "python3"
  },
  "language_info": {
   "codemirror_mode": {
    "name": "ipython",
    "version": 3
   },
   "file_extension": ".py",
   "mimetype": "text/x-python",
   "name": "python",
   "nbconvert_exporter": "python",
   "pygments_lexer": "ipython3",
   "version": "3.10.6"
  }
 },
 "nbformat": 4,
 "nbformat_minor": 5
}
