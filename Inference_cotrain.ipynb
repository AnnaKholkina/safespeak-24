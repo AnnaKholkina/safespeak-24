{
 "cells": [
  {
   "cell_type": "code",
   "execution_count": null,
   "id": "4b8d84f4",
   "metadata": {},
   "outputs": [],
   "source": [
    "from torch.utils.data import Dataset, DataLoader\n",
    "import torch\n",
    "import os\n",
    "from tqdm import tqdm\n",
    "import argparse\n",
    "import raw_dataset as dataset\n",
    "from transformers import Wav2Vec2ForCTC, Wav2Vec2Processor, Wav2Vec2Tokenizer\n",
    "from transformers import Wav2Vec2Model, Wav2Vec2FeatureExtractor,Wav2Vec2Config\n",
    "import numpy as np\n",
    "import pandas as pd"
   ]
  },
  {
   "cell_type": "code",
   "execution_count": null,
   "id": "460d778d",
   "metadata": {},
   "outputs": [],
   "source": [
    "# Load dataset"
   ]
  },
  {
   "cell_type": "code",
   "execution_count": null,
   "id": "24ca10ab",
   "metadata": {},
   "outputs": [],
   "source": [
    "def torchaudio_load(filepath):\n",
    "    wave, sr = librosa.load(filepath,sr=16000)\n",
    "    waveform = torch.Tensor(np.expand_dims(wave, axis=0))\n",
    "    return [waveform, sr]\n",
    "\n",
    "def pad_dataset(wav):\n",
    "    waveform = wav.squeeze(0)\n",
    "    waveform_len = waveform.shape[0]\n",
    "    cut = 64600\n",
    "    if waveform_len >= cut:\n",
    "        waveform = waveform[:cut]\n",
    "        return waveform\n",
    "    # need to pad\n",
    "    num_repeats = int(cut / waveform_len) + 1\n",
    "    padded_waveform = torch.tile(waveform, (1, num_repeats))[:, :cut][0]\n",
    "    return padded_waveform\n",
    "\n",
    "class SafeSpeakTest(Dataset):\n",
    "    def __init__(self, path_to_audio=\"./SafeSpeak-2024/kaggle_data/wavs\"):\n",
    "        super(SafeSpeakTest, self).__init__()\n",
    "        self.path_to_audio = path_to_audio\n",
    "        self.files = os.listdir(self.path_to_audio)\n",
    "        self.filepaths = [os.path.join(self.path_to_audio, filepath) for filepath in self.files]\n",
    "\n",
    "    def __len__(self):\n",
    "        return len(self.files)\n",
    "\n",
    "    def __getitem__(self, idx):\n",
    "        filepath = self.filepaths[idx]\n",
    "        waveform, sr = torchaudio_load(filepath)\n",
    "\n",
    "        return waveform, self.files[idx]\n",
    "\n",
    "    def collate_fn(self, samples):\n",
    "        return default_collate(samples)"
   ]
  },
  {
   "cell_type": "code",
   "execution_count": null,
   "id": "d44eca05",
   "metadata": {},
   "outputs": [],
   "source": []
  },
  {
   "cell_type": "code",
   "execution_count": null,
   "id": "2e8bd0fb",
   "metadata": {},
   "outputs": [],
   "source": [
    "feat_model_path = './cotrain_finetune.pt'\n",
    "   \n",
    "device = torch.device(\"cuda:0\" if torch.cuda.is_available() else \"cpu\")\n",
    "\n",
    "ADD_model = torch.load(feat_model_path)\n",
    "    \n",
    "processor =  Wav2Vec2FeatureExtractor.from_pretrained(\"facebook/wav2vec2-xls-r-300m\") \n",
    "model = Wav2Vec2Model.from_pretrained(\"facebook/wav2vec2-xls-r-300m\").cuda() \n",
    "    \n",
    "model.config.output_hidden_states = True\n",
    "ADD_model.eval()\n",
    "with open(f'result.txt', 'w') as cm_score_file:\n",
    "    safespeak_raw = SafeSpeakTest()\n",
    "    for idx in tqdm(range(len(safespeak_raw))):\n",
    "        waveform, filename = safespeak_raw[idx]\n",
    "        waveform = waveform.to(device)\n",
    "        waveform = pad_dataset(waveform).to('cpu')\n",
    "        input_values = processor(waveform, sampling_rate=16000,\n",
    "                                        return_tensors=\"pt\").input_values.cuda()  \n",
    "        with torch.no_grad():\n",
    "            wav2vec2 = model(input_values).hidden_states[5].cuda()  \n",
    "        w2v2, audio_fn= wav2vec2, filename\n",
    "        this_feat_len = w2v2.shape[1]\n",
    "        w2v2 = w2v2.unsqueeze(dim=0)\n",
    "        w2v2 = w2v2.transpose(2, 3).to(device)\n",
    "        feats, w2v2_outputs = ADD_model(w2v2)\n",
    "        score = F.softmax(w2v2_outputs)[:, 0]\n",
    "        cm_score_file.write('%s %s \\n' % (audio_fn, score.item()))"
   ]
  }
 ],
 "metadata": {
  "kernelspec": {
   "display_name": "safe_venv",
   "language": "python",
   "name": "safe_venv"
  },
  "language_info": {
   "codemirror_mode": {
    "name": "ipython",
    "version": 3
   },
   "file_extension": ".py",
   "mimetype": "text/x-python",
   "name": "python",
   "nbconvert_exporter": "python",
   "pygments_lexer": "ipython3",
   "version": "3.10.6"
  }
 },
 "nbformat": 4,
 "nbformat_minor": 5
}
